{
 "cells": [
  {
   "cell_type": "code",
   "execution_count": 1,
   "id": "9e67287f-1f35-43d4-902e-2db73309638d",
   "metadata": {},
   "outputs": [
    {
     "name": "stdout",
     "output_type": "stream",
     "text": [
      "integer is: 10 TYPE: <class 'int'>\n",
      "float is: 4 TYPE: <class 'int'>\n",
      "string is: venki TYPE: <class 'str'>\n",
      "boolean is: True TYPE: <class 'bool'>\n"
     ]
    }
   ],
   "source": [
    "#Day1 assignment\n",
    "Integer_val = 10\n",
    "Float_value = 4\n",
    "String_value = \"venki\"\n",
    "boolean_value = True\n",
    "print(\"integer is:\", Integer_val, \"TYPE:\" ,type(Integer_val))\n",
    "print(\"float is:\",Float_value, \"TYPE:\", type(Float_value))\n",
    "print(\"string is:\", String_value, \"TYPE:\" , type(String_value))\n",
    "print(\"boolean is:\", boolean_value, \"TYPE:\", type(boolean_value))"
   ]
  },
  {
   "cell_type": "code",
   "execution_count": 5,
   "id": "cf9cc346-f723-4c3f-8fb4-3b44409ddab2",
   "metadata": {},
   "outputs": [
    {
     "name": "stdout",
     "output_type": "stream",
     "text": [
      "list index 3: 4\n",
      "tuple index 4: dancer\n",
      "dict key name: sinclair\n"
     ]
    }
   ],
   "source": [
    "#Day2 assignment\n",
    "my_list  = [1,2,3,4,5,6]\n",
    "my_tuple = (\"venki\", \"pranav\", \"puneeth\", \"reddy\", \"dancer\", \"chirstmas\")\n",
    "my_dict = {\"name\": \"venki\", \"kingdom\":\"sinclair\", \"planet\":\"earth\",\"age\":\"19\"}\n",
    "\n",
    "print(\"list index 3:\", my_list[3])\n",
    "print(\"tuple index 4:\", my_tuple[4])\n",
    "print(\"dict key name:\", my_dict[\"kingdom\"])"
   ]
  },
  {
   "cell_type": "code",
   "execution_count": 7,
   "id": "6c883d5c-0f13-45a8-936d-3ccec488cbee",
   "metadata": {},
   "outputs": [
    {
     "name": "stdin",
     "output_type": "stream",
     "text": [
      "Enter marks for subject A:  90\n",
      "Enter marks for subject B:  90\n",
      "Enter marks for subject C:  90\n"
     ]
    },
    {
     "name": "stdout",
     "output_type": "stream",
     "text": [
      "Grade: A\n"
     ]
    }
   ],
   "source": [
    "#Day3\n",
    "subject_A = float(input(\"Enter marks for subject A: \"))\n",
    "subject_B = float(input(\"Enter marks for subject B: \"))\n",
    "subject_C = float(input(\"Enter marks for subject C: \"))\n",
    "average = (subject_A + subject_B + subject_C) / 3\n",
    "\n",
    "if average >= 90:\n",
    "    print(\"Grade: A\")\n",
    "elif 80 <= average < 90:\n",
    "    print(\"Grade: B\")\n",
    "elif 70 <= average < 80:\n",
    "    print(\"Grade: C\")\n",
    "else:\n",
    "    print(\"Grade: Below C\")\n"
   ]
  },
  {
   "cell_type": "code",
   "execution_count": 9,
   "id": "954bc7dd-8d48-4ca8-89c3-fe9791be060c",
   "metadata": {},
   "outputs": [
    {
     "name": "stdin",
     "output_type": "stream",
     "text": [
      "Enter a number:  33\n"
     ]
    },
    {
     "name": "stdout",
     "output_type": "stream",
     "text": [
      "The sum of all even numbers between 1 and 33 is: 272\n"
     ]
    }
   ],
   "source": [
    "#day4\n",
    "def sum_of_even_numbers(n):\n",
    "    total_sum = 0\n",
    "    for num in range(2, n+1, 2): \n",
    "        total_sum += num\n",
    "    return total_sum\n",
    "n = int(input(\"Enter a number: \"))\n",
    "if n > 0:\n",
    "    result = sum_of_even_numbers(n)\n",
    "    print(\"The sum of all even numbers between 1 and\", n, \"is:\", result)\n",
    "else:\n",
    "    print(\"enter a valid number.\")\n"
   ]
  },
  {
   "cell_type": "code",
   "execution_count": null,
   "id": "0f51f63b-a12a-48e7-8e18-2cedb784f75c",
   "metadata": {},
   "outputs": [],
   "source": []
  }
 ],
 "metadata": {
  "kernelspec": {
   "display_name": "Python [conda env:base] *",
   "language": "python",
   "name": "conda-base-py"
  },
  "language_info": {
   "codemirror_mode": {
    "name": "ipython",
    "version": 3
   },
   "file_extension": ".py",
   "mimetype": "text/x-python",
   "name": "python",
   "nbconvert_exporter": "python",
   "pygments_lexer": "ipython3",
   "version": "3.12.7"
  }
 },
 "nbformat": 4,
 "nbformat_minor": 5
}
